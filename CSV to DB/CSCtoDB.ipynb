{
 "cells": [
  {
   "cell_type": "code",
   "execution_count": null,
   "metadata": {},
   "outputs": [],
   "source": [
    "import pymysql.cursors\n",
    "import csv\n",
    "\n",
    "def convert(list):\n",
    "    '''Converting list to tuple'''\n",
    "    return tuple(list) \n",
    "\n",
    "student_list = []\n",
    "\n",
    "with open('students.csv') as csvfile:\n",
    "    readCSV = csv.reader(csvfile, delimiter=',')\n",
    "    for row in readCSV:\n",
    "        student_list.append(convert(row))\n",
    "\n",
    "connection = pymysql.connect(host='localhost',\n",
    "                             user='root',\n",
    "                             password='',\n",
    "                             db='python_db',\n",
    "                             charset='utf8mb4',\n",
    "                             cursorclass=pymysql.cursors.DictCursor)\n",
    "\n",
    "try:\n",
    "    with connection.cursor() as cursor:\n",
    "        sql = \"insert into students (rollnumber,fname,lname,email) values (%s, %s, %s, %s)\"\n",
    "        \n",
    "        for s in student_list:\n",
    "            #cursor.execute(sql, ('AIC000001', 'Shabaz', 'Khan', 'shabaz@gmail.com'))\n",
    "            cursor.execute(sql, s)  \n",
    "        connection.commit()\n",
    "        print(\"your records has been inserted\")\n",
    "        \n",
    "except MySQLError as e:\n",
    "    print('Got error {!r}, errno is {}'.format(e, e.args[0]))\n",
    "\n",
    "finally:\n",
    "    connection.close()"
   ]
  },
  {
   "cell_type": "code",
   "execution_count": null,
   "metadata": {},
   "outputs": [],
   "source": [
    "def search_by_email(email):\n",
    "    connection = pymysql.connect(host='localhost',\n",
    "                             user='root',\n",
    "                             password='',\n",
    "                             db='python_db',\n",
    "                             charset='utf8mb4',\n",
    "                             cursorclass=pymysql.cursors.DictCursor)\n",
    "    try:\n",
    "        with connection.cursor() as cursor:        \n",
    "            sql = \"select id, rollnumber, fname, lname, email from students where email=%s\"\n",
    "            cursor.execute(sql, (email,))\n",
    "            result = cursor.fetchone()\n",
    "            print(result)\n",
    "    \n",
    "    except MySQLError as e:\n",
    "        print('Got error {!r}, errno is {}'.format(e, e.args[0]))\n",
    "        \n",
    "    finally:\n",
    "        connection.close()"
   ]
  },
  {
   "cell_type": "code",
   "execution_count": null,
   "metadata": {},
   "outputs": [],
   "source": [
    "search_by_email('ali@gmail.com')"
   ]
  },
  {
   "cell_type": "code",
   "execution_count": null,
   "metadata": {},
   "outputs": [],
   "source": [
    "def get_all_students():\n",
    "    connection = pymysql.connect(host='localhost',\n",
    "                             user='root',\n",
    "                             password='',\n",
    "                             db='python_db',\n",
    "                             charset='utf8mb4',\n",
    "                             cursorclass=pymysql.cursors.DictCursor)\n",
    "    try:\n",
    "        with connection.cursor() as cursor:\n",
    "            cursor.execute(\"SELECT * FROM students\")\n",
    "            for row in cursor:\n",
    "                print(row)\n",
    "                \n",
    "    except MySQLError as e:\n",
    "        print('Got error {!r}, errno is {}'.format(e, e.args[0]))\n",
    "        \n",
    "    finally:\n",
    "        connection.close()"
   ]
  },
  {
   "cell_type": "code",
   "execution_count": null,
   "metadata": {},
   "outputs": [],
   "source": [
    "get_all_students()"
   ]
  },
  {
   "cell_type": "code",
   "execution_count": null,
   "metadata": {},
   "outputs": [],
   "source": []
  }
 ],
 "metadata": {
  "kernelspec": {
   "display_name": "Python 3",
   "language": "python",
   "name": "python3"
  },
  "language_info": {
   "codemirror_mode": {
    "name": "ipython",
    "version": 3
   },
   "file_extension": ".py",
   "mimetype": "text/x-python",
   "name": "python",
   "nbconvert_exporter": "python",
   "pygments_lexer": "ipython3",
   "version": "3.7.3"
  }
 },
 "nbformat": 4,
 "nbformat_minor": 2
}
