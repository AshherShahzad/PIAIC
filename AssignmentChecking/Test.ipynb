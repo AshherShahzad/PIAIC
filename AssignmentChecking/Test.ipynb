{
 "cells": [
  {
   "cell_type": "code",
   "execution_count": 6,
   "metadata": {},
   "outputs": [
    {
     "name": "stdout",
     "output_type": "stream",
     "text": [
      "0\n"
     ]
    },
    {
     "data": {
      "text/html": [
       "<div>\n",
       "<style scoped>\n",
       "    .dataframe tbody tr th:only-of-type {\n",
       "        vertical-align: middle;\n",
       "    }\n",
       "\n",
       "    .dataframe tbody tr th {\n",
       "        vertical-align: top;\n",
       "    }\n",
       "\n",
       "    .dataframe thead th {\n",
       "        text-align: right;\n",
       "    }\n",
       "</style>\n",
       "<table border=\"1\" class=\"dataframe\">\n",
       "  <thead>\n",
       "    <tr style=\"text-align: right;\">\n",
       "      <th></th>\n",
       "      <th>Email Address</th>\n",
       "      <th>Full Name</th>\n",
       "      <th>Roll No</th>\n",
       "      <th>URL</th>\n",
       "      <th>hostname</th>\n",
       "      <th>validhost</th>\n",
       "      <th>IsPythonFile</th>\n",
       "      <th>rawobject</th>\n",
       "      <th>response</th>\n",
       "      <th>filename</th>\n",
       "      <th>code</th>\n",
       "      <th>output</th>\n",
       "    </tr>\n",
       "  </thead>\n",
       "  <tbody>\n",
       "    <tr>\n",
       "      <th>0</th>\n",
       "      <td>ubaid.rockstar07@gmail.com</td>\n",
       "      <td>Gulraiz Gulshan</td>\n",
       "      <td>AIC044434</td>\n",
       "      <td>https://github.com/gulraizgulshan2k18/testing/blob/master/sample.py</td>\n",
       "      <td>github.com</td>\n",
       "      <td>True</td>\n",
       "      <td>True</td>\n",
       "      <td>(&lt;Response [200]&gt;, 138d45e4-c0dd-41bb-b7b9-7d9141ca42c3-sample.py, 0)</td>\n",
       "      <td>&lt;Response [200]&gt;</td>\n",
       "      <td>138d45e4-c0dd-41bb-b7b9-7d9141ca42c3-sample.py</td>\n",
       "      <td>0</td>\n",
       "      <td>[[[111, 112, 113, 114], [121, 122, 123, 124], [131, 132, 133, 134]], [[211, 212, 213, 214], [221, 222, 223, 224], [231, 232, 233, 234]], [[311, 312, 313, 314], [321, 322, 323, 324], [331, 332, 333, 334]], [[411, 412, 413, 414], [421, 422, 423, 424], [431, 432, 433, 434]]]</td>\n",
       "    </tr>\n",
       "  </tbody>\n",
       "</table>\n",
       "</div>"
      ],
      "text/plain": [
       "                Email Address       Full Name    Roll No   \\\n",
       "0  ubaid.rockstar07@gmail.com  Gulraiz Gulshan  AIC044434   \n",
       "\n",
       "                                                                   URL  \\\n",
       "0  https://github.com/gulraizgulshan2k18/testing/blob/master/sample.py   \n",
       "\n",
       "     hostname  validhost  IsPythonFile  \\\n",
       "0  github.com  True       True           \n",
       "\n",
       "                                                               rawobject  \\\n",
       "0  (<Response [200]>, 138d45e4-c0dd-41bb-b7b9-7d9141ca42c3-sample.py, 0)   \n",
       "\n",
       "           response                                        filename  code  \\\n",
       "0  <Response [200]>  138d45e4-c0dd-41bb-b7b9-7d9141ca42c3-sample.py  0      \n",
       "\n",
       "                                                                                                                                                                                                                                                                             output  \n",
       "0  [[[111, 112, 113, 114], [121, 122, 123, 124], [131, 132, 133, 134]], [[211, 212, 213, 214], [221, 222, 223, 224], [231, 232, 233, 234]], [[311, 312, 313, 314], [321, 322, 323, 324], [331, 332, 333, 334]], [[411, 412, 413, 414], [421, 422, 423, 424], [431, 432, 433, 434]]]  "
      ]
     },
     "execution_count": 6,
     "metadata": {},
     "output_type": "execute_result"
    }
   ],
   "source": [
    "import pandas as pd\n",
    "import re\n",
    "import requests as req\n",
    "import uuid\n",
    "from urllib.parse import urlparse\n",
    "import os\n",
    "import subprocess\n",
    "\n",
    "pd.set_option('display.max_colwidth', -1)\n",
    "\n",
    "def GetRaw(url):\n",
    "    url = url.replace(\"blob/\", \"\")\n",
    "    url = url.replace(\"https://\", \"https://raw.\")\n",
    "    resp = req.get(url)\n",
    "    fileName = str(uuid.uuid4()) +'-'+ url.split(\"/\", maxsplit = 10 )[-1]\n",
    "    outFile = open(fileName, \"w\")\n",
    "    outFile.write(resp.text)\n",
    "    outFile.close()\n",
    "    status = os.system('python ' + fileName)\n",
    "    print(status)\n",
    "    return ((resp,fileName,status))\n",
    "\n",
    "df = pd.read_excel (r'assignment2.xlsx')\n",
    "df.drop(['Timestamp', 'Campus '], axis=1, inplace=True)\n",
    "\n",
    "df['hostname'] = df.URL.apply(lambda x: urlparse(x).hostname)\n",
    "df['validhost'] = df.hostname == 'github.com'\n",
    "df['IsPythonFile'] = df.URL.apply(lambda x: x.endswith('.py'))\n",
    "df['rawobject'] = df[df.IsPythonFile==True].URL.apply(lambda x: GetRaw(x))\n",
    "\n",
    "df2 = df[df.rawobject.notnull()]\n",
    "\n",
    "df2['response'], df2['filename'], df2['code'] = zip(*df2.rawobject)\n",
    "df2['output'] = df2.filename.apply(lambda x: __import__(x[:-3]).main())\n",
    "\n",
    "df2"
   ]
  },
  {
   "cell_type": "code",
   "execution_count": 26,
   "metadata": {},
   "outputs": [
    {
     "data": {
      "text/plain": [
       "<module '14f7f5fa-6b1e-40b0-a885-8ea12cac4427-ImageToNumpy' from 'E:\\\\PIAIC\\\\AssignmentChecking\\\\14f7f5fa-6b1e-40b0-a885-8ea12cac4427-ImageToNumpy.py'>"
      ]
     },
     "execution_count": 26,
     "metadata": {},
     "output_type": "execute_result"
    }
   ],
   "source": [
    "file = __import__('14f7f5fa-6b1e-40b0-a885-8ea12cac4427-ImageToNumpy')\n",
    "file"
   ]
  },
  {
   "cell_type": "code",
   "execution_count": 27,
   "metadata": {},
   "outputs": [
    {
     "ename": "Exception",
     "evalue": "photos not found",
     "output_type": "error",
     "traceback": [
      "\u001b[1;31m---------------------------------------------------------------------------\u001b[0m",
      "\u001b[1;31mStopIteration\u001b[0m                             Traceback (most recent call last)",
      "\u001b[1;32mE:\\PIAIC\\AssignmentChecking\\14f7f5fa-6b1e-40b0-a885-8ea12cac4427-ImageToNumpy.py\u001b[0m in \u001b[0;36mcount_number_of_files\u001b[1;34m()\u001b[0m\n\u001b[0;32m      7\u001b[0m     \u001b[1;32mtry\u001b[0m\u001b[1;33m:\u001b[0m\u001b[1;33m\u001b[0m\u001b[1;33m\u001b[0m\u001b[0m\n\u001b[1;32m----> 8\u001b[1;33m         \u001b[0mpath\u001b[0m\u001b[1;33m,\u001b[0m \u001b[0mdirs\u001b[0m\u001b[1;33m,\u001b[0m \u001b[0mfiles\u001b[0m \u001b[1;33m=\u001b[0m \u001b[0mnext\u001b[0m\u001b[1;33m(\u001b[0m\u001b[0mos\u001b[0m\u001b[1;33m.\u001b[0m\u001b[0mwalk\u001b[0m\u001b[1;33m(\u001b[0m\u001b[1;34m\"photos\"\u001b[0m\u001b[1;33m)\u001b[0m\u001b[1;33m)\u001b[0m\u001b[1;33m\u001b[0m\u001b[1;33m\u001b[0m\u001b[0m\n\u001b[0m\u001b[0;32m      9\u001b[0m         \u001b[0mfile_count\u001b[0m \u001b[1;33m=\u001b[0m \u001b[0mlen\u001b[0m\u001b[1;33m(\u001b[0m\u001b[0mfiles\u001b[0m\u001b[1;33m)\u001b[0m\u001b[1;33m\u001b[0m\u001b[1;33m\u001b[0m\u001b[0m\n",
      "\u001b[1;31mStopIteration\u001b[0m: ",
      "\nDuring handling of the above exception, another exception occurred:\n",
      "\u001b[1;31mException\u001b[0m                                 Traceback (most recent call last)",
      "\u001b[1;32m<ipython-input-27-63dc21e8c29b>\u001b[0m in \u001b[0;36m<module>\u001b[1;34m\u001b[0m\n\u001b[1;32m----> 1\u001b[1;33m \u001b[0ma\u001b[0m\u001b[1;33m=\u001b[0m \u001b[0mfile\u001b[0m\u001b[1;33m.\u001b[0m\u001b[0mmain\u001b[0m\u001b[1;33m(\u001b[0m\u001b[1;33m)\u001b[0m\u001b[1;33m\u001b[0m\u001b[1;33m\u001b[0m\u001b[0m\n\u001b[0m\u001b[0;32m      2\u001b[0m \u001b[0ma\u001b[0m\u001b[1;33m\u001b[0m\u001b[1;33m\u001b[0m\u001b[0m\n",
      "\u001b[1;32mE:\\PIAIC\\AssignmentChecking\\14f7f5fa-6b1e-40b0-a885-8ea12cac4427-ImageToNumpy.py\u001b[0m in \u001b[0;36mmain\u001b[1;34m()\u001b[0m\n\u001b[0;32m     38\u001b[0m             \u001b[0marray\u001b[0m\u001b[1;33m[\u001b[0m\u001b[0mi\u001b[0m\u001b[1;33m]\u001b[0m \u001b[1;33m=\u001b[0m \u001b[0marray1\u001b[0m\u001b[1;33m[\u001b[0m\u001b[0mi\u001b[0m\u001b[1;33m]\u001b[0m\u001b[1;33m\u001b[0m\u001b[1;33m\u001b[0m\u001b[0m\n\u001b[0;32m     39\u001b[0m \u001b[1;32mdef\u001b[0m \u001b[0mmain\u001b[0m\u001b[1;33m(\u001b[0m\u001b[1;33m)\u001b[0m\u001b[1;33m:\u001b[0m\u001b[1;33m\u001b[0m\u001b[1;33m\u001b[0m\u001b[0m\n\u001b[1;32m---> 40\u001b[1;33m    \u001b[0mfileCount\u001b[0m \u001b[1;33m=\u001b[0m \u001b[0mcount_number_of_files\u001b[0m\u001b[1;33m(\u001b[0m\u001b[1;33m)\u001b[0m\u001b[1;33m\u001b[0m\u001b[1;33m\u001b[0m\u001b[0m\n\u001b[0m\u001b[0;32m     41\u001b[0m    \u001b[0mresizedPhotos\u001b[0m \u001b[1;33m=\u001b[0m \u001b[0mnp\u001b[0m\u001b[1;33m.\u001b[0m\u001b[0mzeros\u001b[0m\u001b[1;33m(\u001b[0m\u001b[1;33m(\u001b[0m\u001b[0mfileCount\u001b[0m\u001b[1;33m,\u001b[0m\u001b[1;36m200\u001b[0m\u001b[1;33m,\u001b[0m\u001b[1;36m200\u001b[0m\u001b[1;33m,\u001b[0m\u001b[1;36m3\u001b[0m\u001b[1;33m)\u001b[0m\u001b[1;33m)\u001b[0m\u001b[1;33m\u001b[0m\u001b[1;33m\u001b[0m\u001b[0m\n\u001b[0;32m     42\u001b[0m    \u001b[0marray\u001b[0m \u001b[1;33m=\u001b[0m \u001b[1;33m[\u001b[0m\u001b[1;33m]\u001b[0m\u001b[1;33m\u001b[0m\u001b[1;33m\u001b[0m\u001b[0m\n",
      "\u001b[1;32mE:\\PIAIC\\AssignmentChecking\\14f7f5fa-6b1e-40b0-a885-8ea12cac4427-ImageToNumpy.py\u001b[0m in \u001b[0;36mcount_number_of_files\u001b[1;34m()\u001b[0m\n\u001b[0;32m     10\u001b[0m         \u001b[1;32mreturn\u001b[0m \u001b[0mfile_count\u001b[0m\u001b[1;33m\u001b[0m\u001b[1;33m\u001b[0m\u001b[0m\n\u001b[0;32m     11\u001b[0m     \u001b[1;32mexcept\u001b[0m\u001b[1;33m:\u001b[0m\u001b[1;33m\u001b[0m\u001b[1;33m\u001b[0m\u001b[0m\n\u001b[1;32m---> 12\u001b[1;33m         \u001b[1;32mraise\u001b[0m \u001b[0mException\u001b[0m\u001b[1;33m(\u001b[0m\u001b[1;34m\"photos not found\"\u001b[0m\u001b[1;33m)\u001b[0m\u001b[1;33m\u001b[0m\u001b[1;33m\u001b[0m\u001b[0m\n\u001b[0m\u001b[0;32m     13\u001b[0m \u001b[1;32mdef\u001b[0m \u001b[0mresizeImages\u001b[0m\u001b[1;33m(\u001b[0m\u001b[0marray\u001b[0m\u001b[1;33m)\u001b[0m\u001b[1;33m:\u001b[0m\u001b[1;33m\u001b[0m\u001b[1;33m\u001b[0m\u001b[0m\n\u001b[0;32m     14\u001b[0m     \u001b[0mrootDir\u001b[0m \u001b[1;33m=\u001b[0m \u001b[1;34m\"photos\"\u001b[0m\u001b[1;33m\u001b[0m\u001b[1;33m\u001b[0m\u001b[0m\n",
      "\u001b[1;31mException\u001b[0m: photos not found"
     ]
    }
   ],
   "source": [
    "a= file.main()\n",
    "a"
   ]
  },
  {
   "cell_type": "code",
   "execution_count": 16,
   "metadata": {},
   "outputs": [
    {
     "name": "stderr",
     "output_type": "stream",
     "text": [
      "C:\\Users\\Gulraiz\\Anaconda3\\lib\\site-packages\\ipykernel_launcher.py:1: DeprecationWarning: path should be string, bytes, or os.PathLike, not numpy.ndarray\n",
      "  \"\"\"Entry point for launching an IPython kernel.\n"
     ]
    },
    {
     "ename": "UnicodeDecodeError",
     "evalue": "'utf-8' codec can't decode byte 0x83 in position 32: invalid start byte",
     "output_type": "error",
     "traceback": [
      "\u001b[1;31m---------------------------------------------------------------------------\u001b[0m",
      "\u001b[1;31mUnicodeDecodeError\u001b[0m                        Traceback (most recent call last)",
      "\u001b[1;32m<ipython-input-16-b50936f8297a>\u001b[0m in \u001b[0;36m<module>\u001b[1;34m\u001b[0m\n\u001b[1;32m----> 1\u001b[1;33m \u001b[0mexec\u001b[0m\u001b[1;33m(\u001b[0m\u001b[0mopen\u001b[0m\u001b[1;33m(\u001b[0m\u001b[0mfile\u001b[0m\u001b[1;33m.\u001b[0m\u001b[0mmain\u001b[0m\u001b[1;33m(\u001b[0m\u001b[1;33m)\u001b[0m\u001b[1;33m)\u001b[0m\u001b[1;33m.\u001b[0m\u001b[0mread\u001b[0m\u001b[1;33m(\u001b[0m\u001b[1;33m)\u001b[0m\u001b[1;33m)\u001b[0m\u001b[1;33m\u001b[0m\u001b[1;33m\u001b[0m\u001b[0m\n\u001b[0m",
      "\u001b[1;31mUnicodeDecodeError\u001b[0m: 'utf-8' codec can't decode byte 0x83 in position 32: invalid start byte"
     ]
    }
   ],
   "source": [
    "exec(open(file.main()).read())"
   ]
  },
  {
   "cell_type": "code",
   "execution_count": null,
   "metadata": {},
   "outputs": [],
   "source": [
    "import pandas as pd\n",
    "import re\n",
    "import requests as req\n",
    "import uuid\n",
    "from urllib.parse import urlparse\n",
    "import os\n",
    "import subprocess\n",
    "\n",
    "pd.set_option('display.max_colwidth', -1)\n",
    "\n",
    "def GetRaw(url):\n",
    "    url = url.replace(\"blob/\", \"\")\n",
    "    url = url.replace(\"https://\", \"https://raw.\")\n",
    "    resp = req.get(url)\n",
    "    fileName = str(uuid.uuid4()) +'-'+ url.split(\"/\", maxsplit = 10 )[-1]\n",
    "    outFile = open(fileName, \"w\")\n",
    "    outFile.write(resp.text)\n",
    "    outFile.close()\n",
    "    status = os.system('python ' + fileName)\n",
    "    return ((resp,fileName,status))\n",
    "\n",
    "def GetOutput(filename):\n",
    "    proc = subprocess.Popen(['python', filename], stdout=subprocess.PIPE, stderr=subprocess.STDOUT)\n",
    "    return proc.communicate()[0]\n",
    "    \n",
    "\n",
    "df = pd.read_excel (r'assignment2.xlsx')\n",
    "df.drop(['Timestamp', 'Campus '], axis=1, inplace=True)\n",
    "\n",
    "df['hostname'] = df.URL.apply(lambda x: urlparse(x).hostname)\n",
    "df['validhost'] = df.hostname == 'github.com'\n",
    "df['IsPythonFile'] = df.URL.apply(lambda x: x.endswith('.py'))\n",
    "df['rawobject'] = df[df.IsPythonFile==True].URL.apply(lambda x: GetRaw(x))\n",
    "\n",
    "df2 = df[df.rawobject.notnull()]\n",
    "\n",
    "df2['response'], df2['filename'], df2['code'] = zip(*df2.rawobject)\n",
    "#df2['output'] = df2.filename.apply(lambda x: GetOutput(x))\n",
    "#df2['output'] = df2.filename.apply(lambda x: exec(open(__import__(x.replace('.py', '')).__file__).read()))\n",
    "\n",
    "df2['output'] = df2.filename.apply(lambda x: __import__(x[:-3]).main())\n",
    "df2"
   ]
  }
 ],
 "metadata": {
  "kernelspec": {
   "display_name": "Python 3",
   "language": "python",
   "name": "python3"
  },
  "language_info": {
   "codemirror_mode": {
    "name": "ipython",
    "version": 3
   },
   "file_extension": ".py",
   "mimetype": "text/x-python",
   "name": "python",
   "nbconvert_exporter": "python",
   "pygments_lexer": "ipython3",
   "version": "3.7.3"
  }
 },
 "nbformat": 4,
 "nbformat_minor": 2
}
