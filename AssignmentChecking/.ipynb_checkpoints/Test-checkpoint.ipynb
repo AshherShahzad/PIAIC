{
 "cells": [
  {
   "cell_type": "code",
   "execution_count": 22,
   "metadata": {},
   "outputs": [
    {
     "data": {
      "text/html": [
       "<div>\n",
       "<style scoped>\n",
       "    .dataframe tbody tr th:only-of-type {\n",
       "        vertical-align: middle;\n",
       "    }\n",
       "\n",
       "    .dataframe tbody tr th {\n",
       "        vertical-align: top;\n",
       "    }\n",
       "\n",
       "    .dataframe thead th {\n",
       "        text-align: right;\n",
       "    }\n",
       "</style>\n",
       "<table border=\"1\" class=\"dataframe\">\n",
       "  <thead>\n",
       "    <tr style=\"text-align: right;\">\n",
       "      <th></th>\n",
       "      <th>Email Address</th>\n",
       "      <th>Full Name</th>\n",
       "      <th>Roll No</th>\n",
       "      <th>URL</th>\n",
       "      <th>hostname</th>\n",
       "      <th>validhost</th>\n",
       "      <th>IsPythonFile</th>\n",
       "      <th>rawobject</th>\n",
       "      <th>response</th>\n",
       "      <th>filename</th>\n",
       "      <th>code</th>\n",
       "      <th>output</th>\n",
       "    </tr>\n",
       "  </thead>\n",
       "  <tbody>\n",
       "    <tr>\n",
       "      <th>0</th>\n",
       "      <td>ubaid.rockstar07@gmail.com</td>\n",
       "      <td>Gulraiz Gulshan</td>\n",
       "      <td>AIC044434</td>\n",
       "      <td>https://github.com/gulraizgulshan2k18/testing/blob/master/sample.py</td>\n",
       "      <td>github.com</td>\n",
       "      <td>True</td>\n",
       "      <td>True</td>\n",
       "      <td>(&lt;Response [200]&gt;, 1734e656-2333-4c46-8e85-68e212cafec1-sample.py, 0)</td>\n",
       "      <td>&lt;Response [200]&gt;</td>\n",
       "      <td>1734e656-2333-4c46-8e85-68e212cafec1-sample.py</td>\n",
       "      <td>0</td>\n",
       "      <td>[[[111, 112, 113, 114], [121, 122, 123, 124], [131, 132, 133, 134]], [[211, 212, 213, 214], [221, 222, 223, 224], [231, 232, 233, 234]], [[311, 312, 313, 314], [321, 322, 323, 324], [331, 332, 333, 334]], [[411, 412, 413, 414], [421, 422, 423, 424], [431, 432, 433, 434]]]</td>\n",
       "    </tr>\n",
       "  </tbody>\n",
       "</table>\n",
       "</div>"
      ],
      "text/plain": [
       "                Email Address       Full Name    Roll No   \\\n",
       "0  ubaid.rockstar07@gmail.com  Gulraiz Gulshan  AIC044434   \n",
       "\n",
       "                                                                   URL  \\\n",
       "0  https://github.com/gulraizgulshan2k18/testing/blob/master/sample.py   \n",
       "\n",
       "     hostname  validhost  IsPythonFile  \\\n",
       "0  github.com  True       True           \n",
       "\n",
       "                                                               rawobject  \\\n",
       "0  (<Response [200]>, 1734e656-2333-4c46-8e85-68e212cafec1-sample.py, 0)   \n",
       "\n",
       "           response                                        filename  code  \\\n",
       "0  <Response [200]>  1734e656-2333-4c46-8e85-68e212cafec1-sample.py  0      \n",
       "\n",
       "                                                                                                                                                                                                                                                                             output  \n",
       "0  [[[111, 112, 113, 114], [121, 122, 123, 124], [131, 132, 133, 134]], [[211, 212, 213, 214], [221, 222, 223, 224], [231, 232, 233, 234]], [[311, 312, 313, 314], [321, 322, 323, 324], [331, 332, 333, 334]], [[411, 412, 413, 414], [421, 422, 423, 424], [431, 432, 433, 434]]]  "
      ]
     },
     "execution_count": 22,
     "metadata": {},
     "output_type": "execute_result"
    }
   ],
   "source": [
    "import pandas as pd\n",
    "import re\n",
    "import requests as req\n",
    "import uuid\n",
    "from urllib.parse import urlparse\n",
    "import os\n",
    "import subprocess\n",
    "\n",
    "pd.set_option('display.max_colwidth', -1)\n",
    "\n",
    "def GetRaw(url):\n",
    "    url = url.replace(\"blob/\", \"\")\n",
    "    url = url.replace(\"https://\", \"https://raw.\")\n",
    "    resp = req.get(url)\n",
    "    fileName = str(uuid.uuid4()) +'-'+ url.split(\"/\", maxsplit = 10 )[-1]\n",
    "    outFile = open(fileName, \"w\")\n",
    "    outFile.write(resp.text)\n",
    "    outFile.close()\n",
    "    status = os.system('python ' + fileName)\n",
    "    return ((resp,fileName,status))\n",
    "\n",
    "df = pd.read_excel (r'assignment2.xlsx')\n",
    "df.drop(['Timestamp', 'Campus '], axis=1, inplace=True)\n",
    "\n",
    "df['hostname'] = df.URL.apply(lambda x: urlparse(x).hostname)\n",
    "df['validhost'] = df.hostname == 'github.com'\n",
    "df['IsPythonFile'] = df.URL.apply(lambda x: x.endswith('.py'))\n",
    "df['rawobject'] = df[df.IsPythonFile==True].URL.apply(lambda x: GetRaw(x))\n",
    "\n",
    "df2 = df[df.rawobject.notnull()]\n",
    "\n",
    "df2['response'], df2['filename'], df2['code'] = zip(*df2.rawobject)\n",
    "df2['output'] = df2.filename.apply(lambda x: __import__(x[:-3]).main())\n",
    "df2"
   ]
  },
  {
   "cell_type": "code",
   "execution_count": 10,
   "metadata": {},
   "outputs": [
    {
     "data": {
      "text/plain": [
       "<module 'yourfile' from 'E:\\\\PIAIC\\\\AssignmentChecking\\\\yourfile.py'>"
      ]
     },
     "execution_count": 10,
     "metadata": {},
     "output_type": "execute_result"
    }
   ],
   "source": [
    "file = __import__('yourfile')\n",
    "file"
   ]
  },
  {
   "cell_type": "code",
   "execution_count": 18,
   "metadata": {},
   "outputs": [
    {
     "data": {
      "text/plain": [
       "array([[[111, 112, 113, 114],\n",
       "        [121, 122, 123, 124],\n",
       "        [131, 132, 133, 134]],\n",
       "\n",
       "       [[211, 212, 213, 214],\n",
       "        [221, 222, 223, 224],\n",
       "        [231, 232, 233, 234]],\n",
       "\n",
       "       [[311, 312, 313, 314],\n",
       "        [321, 322, 323, 324],\n",
       "        [331, 332, 333, 334]],\n",
       "\n",
       "       [[411, 412, 413, 414],\n",
       "        [421, 422, 423, 424],\n",
       "        [431, 432, 433, 434]]])"
      ]
     },
     "execution_count": 18,
     "metadata": {},
     "output_type": "execute_result"
    }
   ],
   "source": [
    "a= file.main()\n",
    "a"
   ]
  },
  {
   "cell_type": "code",
   "execution_count": 16,
   "metadata": {},
   "outputs": [
    {
     "name": "stderr",
     "output_type": "stream",
     "text": [
      "C:\\Users\\Gulraiz\\Anaconda3\\lib\\site-packages\\ipykernel_launcher.py:1: DeprecationWarning: path should be string, bytes, or os.PathLike, not numpy.ndarray\n",
      "  \"\"\"Entry point for launching an IPython kernel.\n"
     ]
    },
    {
     "ename": "UnicodeDecodeError",
     "evalue": "'utf-8' codec can't decode byte 0x83 in position 32: invalid start byte",
     "output_type": "error",
     "traceback": [
      "\u001b[1;31m---------------------------------------------------------------------------\u001b[0m",
      "\u001b[1;31mUnicodeDecodeError\u001b[0m                        Traceback (most recent call last)",
      "\u001b[1;32m<ipython-input-16-b50936f8297a>\u001b[0m in \u001b[0;36m<module>\u001b[1;34m\u001b[0m\n\u001b[1;32m----> 1\u001b[1;33m \u001b[0mexec\u001b[0m\u001b[1;33m(\u001b[0m\u001b[0mopen\u001b[0m\u001b[1;33m(\u001b[0m\u001b[0mfile\u001b[0m\u001b[1;33m.\u001b[0m\u001b[0mmain\u001b[0m\u001b[1;33m(\u001b[0m\u001b[1;33m)\u001b[0m\u001b[1;33m)\u001b[0m\u001b[1;33m.\u001b[0m\u001b[0mread\u001b[0m\u001b[1;33m(\u001b[0m\u001b[1;33m)\u001b[0m\u001b[1;33m)\u001b[0m\u001b[1;33m\u001b[0m\u001b[1;33m\u001b[0m\u001b[0m\n\u001b[0m",
      "\u001b[1;31mUnicodeDecodeError\u001b[0m: 'utf-8' codec can't decode byte 0x83 in position 32: invalid start byte"
     ]
    }
   ],
   "source": [
    "exec(open(file.main()).read())"
   ]
  },
  {
   "cell_type": "code",
   "execution_count": null,
   "metadata": {},
   "outputs": [],
   "source": [
    "import pandas as pd\n",
    "import re\n",
    "import requests as req\n",
    "import uuid\n",
    "from urllib.parse import urlparse\n",
    "import os\n",
    "import subprocess\n",
    "\n",
    "pd.set_option('display.max_colwidth', -1)\n",
    "\n",
    "def GetRaw(url):\n",
    "    url = url.replace(\"blob/\", \"\")\n",
    "    url = url.replace(\"https://\", \"https://raw.\")\n",
    "    resp = req.get(url)\n",
    "    fileName = str(uuid.uuid4()) +'-'+ url.split(\"/\", maxsplit = 10 )[-1]\n",
    "    outFile = open(fileName, \"w\")\n",
    "    outFile.write(resp.text)\n",
    "    outFile.close()\n",
    "    status = os.system('python ' + fileName)\n",
    "    return ((resp,fileName,status))\n",
    "\n",
    "def GetOutput(filename):\n",
    "    proc = subprocess.Popen(['python', filename], stdout=subprocess.PIPE, stderr=subprocess.STDOUT)\n",
    "    return proc.communicate()[0]\n",
    "    \n",
    "\n",
    "df = pd.read_excel (r'assignment2.xlsx')\n",
    "df.drop(['Timestamp', 'Campus '], axis=1, inplace=True)\n",
    "\n",
    "df['hostname'] = df.URL.apply(lambda x: urlparse(x).hostname)\n",
    "df['validhost'] = df.hostname == 'github.com'\n",
    "df['IsPythonFile'] = df.URL.apply(lambda x: x.endswith('.py'))\n",
    "df['rawobject'] = df[df.IsPythonFile==True].URL.apply(lambda x: GetRaw(x))\n",
    "\n",
    "df2 = df[df.rawobject.notnull()]\n",
    "\n",
    "df2['response'], df2['filename'], df2['code'] = zip(*df2.rawobject)\n",
    "#df2['output'] = df2.filename.apply(lambda x: GetOutput(x))\n",
    "#df2['output'] = df2.filename.apply(lambda x: exec(open(__import__(x.replace('.py', '')).__file__).read()))\n",
    "\n",
    "df2['output'] = df2.filename.apply(lambda x: __import__(x[:-3]).main())\n",
    "df2"
   ]
  }
 ],
 "metadata": {
  "kernelspec": {
   "display_name": "Python 3",
   "language": "python",
   "name": "python3"
  },
  "language_info": {
   "codemirror_mode": {
    "name": "ipython",
    "version": 3
   },
   "file_extension": ".py",
   "mimetype": "text/x-python",
   "name": "python",
   "nbconvert_exporter": "python",
   "pygments_lexer": "ipython3",
   "version": "3.7.3"
  }
 },
 "nbformat": 4,
 "nbformat_minor": 2
}
