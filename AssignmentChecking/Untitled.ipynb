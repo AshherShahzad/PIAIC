{
 "cells": [
  {
   "cell_type": "code",
   "execution_count": 1,
   "metadata": {},
   "outputs": [
    {
     "name": "stdout",
     "output_type": "stream",
     "text": [
      "[0 1 2 3 4 5 6 7 8 9]\n"
     ]
    }
   ],
   "source": [
    "import numpy as np\n",
    "l = np.arange(10)\n",
    "print(l)"
   ]
  },
  {
   "cell_type": "code",
   "execution_count": 1,
   "metadata": {},
   "outputs": [],
   "source": [
    "import numpy as np\n",
    "\n",
    "def main():\n",
    "    ndarray = np.array (\n",
    "                    [\n",
    "                       [ [111, 112, 113, 114 ], [121, 122, 123, 124] , [131, 132, 133, 134] ],\n",
    "                       [ [211, 212, 213, 214], [221, 222, 223, 224], [231, 232, 233, 234] ],\n",
    "                       [ [311, 312, 313, 314], [321, 322, 323, 324], [331, 332, 333, 334] ],\n",
    "                       [  [411, 412, 413, 414], [421, 422, 423, 424], [431, 432, 433, 434] ]\n",
    "                    ]\n",
    "                   )\n",
    "\n",
    "    return ndarray\n",
    "\n",
    "if __name__ == \"__main__\":\n",
    "    main()"
   ]
  },
  {
   "cell_type": "code",
   "execution_count": null,
   "metadata": {},
   "outputs": [],
   "source": [
    "exec(open(\"707ead69-68fd-4543-ab00-2ec0ce220b71-sample.py\").read())"
   ]
  }
 ],
 "metadata": {
  "kernelspec": {
   "display_name": "Python 3",
   "language": "python",
   "name": "python3"
  },
  "language_info": {
   "codemirror_mode": {
    "name": "ipython",
    "version": 3
   },
   "file_extension": ".py",
   "mimetype": "text/x-python",
   "name": "python",
   "nbconvert_exporter": "python",
   "pygments_lexer": "ipython3",
   "version": "3.7.3"
  }
 },
 "nbformat": 4,
 "nbformat_minor": 2
}
